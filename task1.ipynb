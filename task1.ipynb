{
  "cells": [
    {
      "cell_type": "markdown",
      "metadata": {
        "id": "c05F0V5LfOgI"
      },
      "source": [
        "# Задание 1.1\n",
        "\n",
        "[Свертка списка](https://ru.wikipedia.org/wiki/%D0%A1%D0%B2%D1%91%D1%80%D1%82%D0%BA%D0%B0_%D1%81%D0%BF%D0%B8%D1%81%D0%BA%D0%B0) -  это обобщенная операция над списком, c помощью которой можно преобразовать список в единое значение. Например, рассмотрим реализации свертки слева и свертки справа (левоассоциативную свертку и правоассоциативную свертку):"
      ]
    },
    {
      "cell_type": "code",
      "execution_count": 31,
      "metadata": {
        "collapsed": true,
        "jupyter": {
          "outputs_hidden": true
        },
        "id": "EGDmhD90fOgK"
      },
      "outputs": [],
      "source": [
        "def foldl(f, x0, lst):\n",
        "    if not lst:\n",
        "        return x0\n",
        "    return foldl(f, f(x0, lst[0]), lst[1:])\n",
        "\n",
        "def foldr(f, x0, lst):\n",
        "    if not lst:\n",
        "        return x0\n",
        "    return f(lst[0], foldr(f, x0, lst[1:]))"
      ]
    },
    {
      "cell_type": "code",
      "execution_count": 32,
      "metadata": {
        "colab": {
          "base_uri": "https://localhost:8080/"
        },
        "id": "wxURIfZtfOgL",
        "outputId": "b20ee4f1-ce4b-453d-bd94-40d6e27bcba0"
      },
      "outputs": [
        {
          "output_type": "execute_result",
          "data": {
            "text/plain": [
              "6"
            ]
          },
          "metadata": {},
          "execution_count": 32
        }
      ],
      "source": [
        "#сумма\n",
        "foldl(lambda x, y: x + y, 0, [1, 2, 3])"
      ]
    },
    {
      "cell_type": "code",
      "execution_count": 33,
      "metadata": {
        "colab": {
          "base_uri": "https://localhost:8080/",
          "height": 35
        },
        "id": "OWAx4Z8TfOgM",
        "outputId": "94759f2f-4426-4250-f10e-bfbd77289e1b"
      },
      "outputs": [
        {
          "output_type": "execute_result",
          "data": {
            "text/plain": [
              "'123'"
            ],
            "application/vnd.google.colaboratory.intrinsic+json": {
              "type": "string"
            }
          },
          "metadata": {},
          "execution_count": 33
        }
      ],
      "source": [
        "#конкатенация\n",
        "foldl(lambda x, y: '{}{}'.format(x, y), '', [1, 2, 3])"
      ]
    },
    {
      "cell_type": "code",
      "execution_count": 34,
      "metadata": {
        "colab": {
          "base_uri": "https://localhost:8080/"
        },
        "id": "1UMg29ALfOgN",
        "outputId": "9ca6c6fb-2a37-4ed6-c4ab-33f01fb539a5"
      },
      "outputs": [
        {
          "output_type": "execute_result",
          "data": {
            "text/plain": [
              "(0.16666666666666666, 1.5)"
            ]
          },
          "metadata": {},
          "execution_count": 34
        }
      ],
      "source": [
        "f = lambda x, y: x / y\n",
        "foldl(f, 1, [1, 2, 3]), \\\n",
        "foldr(f, 1, [1, 2, 3])"
      ]
    },
    {
      "cell_type": "markdown",
      "metadata": {
        "id": "I79T8zJYfOgN"
      },
      "source": [
        "Задача: реализовать foldl через foldr и наоборот. Вместо многоточий нужно вставить выражения, которые бы привели к нужному результату. Модифицировать сам список нельзя. "
      ]
    },
    {
      "cell_type": "code",
      "execution_count": 35,
      "metadata": {
        "collapsed": true,
        "jupyter": {
          "outputs_hidden": true
        },
        "id": "UBcXrBRbfOgO"
      },
      "outputs": [],
      "source": [
        "def foldl2(f, x0, lst):\n",
        "    return foldr(lambda x, z: lambda y: z(f(y, x)), lambda i: i, lst)(x0)"
      ]
    },
    {
      "cell_type": "code",
      "execution_count": 36,
      "metadata": {
        "collapsed": true,
        "jupyter": {
          "outputs_hidden": true
        },
        "id": "Xoz60uEtfOgO"
      },
      "outputs": [],
      "source": [
        "def foldr2(f, x0, lst):\n",
        "    return foldl(lambda z, x: lambda y: z(f(x, y)), lambda i: i, lst)(x0)"
      ]
    },
    {
      "cell_type": "code",
      "source": [
        "foldl2(lambda x, y: '{}{}'.format(x, y), '', [1, 2, 3]), \\\n",
        "foldr2(lambda x, y: '{}{}'.format(x, y), '', [1, 2, 3])"
      ],
      "metadata": {
        "colab": {
          "base_uri": "https://localhost:8080/"
        },
        "id": "ipjtwaryrois",
        "outputId": "c9dbb822-b244-4e78-a683-344930240c61"
      },
      "execution_count": 39,
      "outputs": [
        {
          "output_type": "execute_result",
          "data": {
            "text/plain": [
              "('123', '123')"
            ]
          },
          "metadata": {},
          "execution_count": 39
        }
      ]
    },
    {
      "cell_type": "markdown",
      "metadata": {
        "id": "eHd0i77zfOgP"
      },
      "source": [
        "# Задание 1.2\n",
        "\n",
        "нужно написать функцию, которая принимает две строки и проверяет, входит ли хотя бы одна перестановка второй строки в первую. Например:\n",
        "\n",
        "> a = 'abcrotm'\n",
        "> \n",
        "> b = 'tro'\n",
        "\n",
        "функция def check_inv(a, b) вернет True, так как 'rot' содержится в 'abcrotm'. Нужно подумать как можно более оптимальный алгоритм и оценить его сложность. "
      ]
    },
    {
      "cell_type": "code",
      "source": [
        "def check_inv(a, b): #Решение через массив, литкод принял\n",
        "      if len(b)>len(a): return False\n",
        "\n",
        "      aCount, bCount = [0]*26, [0]*26 \n",
        "      for i in range(len(b)): \n",
        "        aCount[ord(a[i])- ord('a')]+=1\n",
        "        bCount[ord(b[i])- ord('a')]+=1\n",
        "      \n",
        "      matches = 0\n",
        "      for i in range(26):\n",
        "        matches += (1 if aCount[i] == bCount[i] else 0)\n",
        "\n",
        "      l = 0\n",
        "      for r in range(len(b), len(a)):\n",
        "        if matches == 26: return True\n",
        "\n",
        "        index = ord(a[r]) - ord('a')\n",
        "        aCount[index] += 1\n",
        "        if bCount[index] == aCount[index]:\n",
        "          matches += 1\n",
        "        elif bCount[index] + 1 == aCount[index]:\n",
        "          matches -= 1\n",
        "        \n",
        "        index = ord(a[l]) - ord('a')\n",
        "        aCount[index] -= 1\n",
        "        if bCount[index] == aCount[index]:\n",
        "          matches += 1\n",
        "        elif bCount[index] - 1 == aCount[index]:\n",
        "          matches -= 1\n",
        "        l += 1\n",
        "\n",
        "      return matches == 26\n",
        "\n",
        "#Сложность по времени - O(n) [если быть совсем точным, то O(26)+O(26*n)], Сложность по памяти - O(1)\n",
        "\n",
        "check_inv('abcrotm','tro')      "
      ],
      "metadata": {
        "colab": {
          "base_uri": "https://localhost:8080/"
        },
        "id": "u1vkBdxVD3uN",
        "outputId": "dc9f285e-b190-4e3a-c0a4-75f9a3ff3396"
      },
      "execution_count": 30,
      "outputs": [
        {
          "output_type": "execute_result",
          "data": {
            "text/plain": [
              "True"
            ]
          },
          "metadata": {},
          "execution_count": 30
        }
      ]
    },
    {
      "cell_type": "markdown",
      "metadata": {
        "id": "5ET-zHH5fOgQ"
      },
      "source": [
        "# Задание 1.3\n",
        "\n",
        "Реализовать бинарное дерево (класс Tree), в нём методы __repr__, __str__, __iter__ (итерация только по листьям)."
      ]
    },
    {
      "cell_type": "code",
      "execution_count": 40,
      "metadata": {
        "id": "94NLvEUDfOgR",
        "colab": {
          "base_uri": "https://localhost:8080/"
        },
        "outputId": "11d13f74-9498-48b3-93b9-35897cf14ebd"
      },
      "outputs": [
        {
          "output_type": "execute_result",
          "data": {
            "text/plain": [
              "True"
            ]
          },
          "metadata": {},
          "execution_count": 40
        }
      ],
      "source": [
        "class Tree:\n",
        "    def __init__(self, value=None, left=None, right=None):\n",
        "        self.left = left\n",
        "        self.right = right\n",
        "        self.value = value\n",
        "        \n",
        "    def __iter__(self):\n",
        "        if self.left:\n",
        "            yield from self.left\n",
        "        if self.right:\n",
        "            yield from self.right\n",
        "        if not self.left and not self.right:\n",
        "            yield self.value\n",
        "\n",
        "    def __str__(self):\n",
        "        return 'Tree [' + str(self.value) + ']'\n",
        "\n",
        "    def __repr__(self):\n",
        "        return 'Tree [' + 'value: ' + str(self.value) + '; left: ' + str(\n",
        "            self.left) + '; right: ' + str(self.right) + ']'\n",
        "    \n",
        "tree = Tree(0, Tree(1, Tree(3), Tree(4)),                             \n",
        "               Tree(2))\n",
        "\n",
        "list(tree) == [3, 4, 2]"
      ]
    },
    {
      "cell_type": "markdown",
      "metadata": {
        "id": "2-zBX-qtfOgR"
      },
      "source": [
        "# Задание 1.4\n",
        "\n",
        "Реализовать простейший калькулятор математических выражений:\n",
        "- только целые числа\n",
        "- **+**, **\\-**, **\\***, **\\**\n",
        "- скобки\n",
        "\n",
        "**Можно использовать регулярные выражения**"
      ]
    },
    {
      "cell_type": "code",
      "execution_count": 25,
      "metadata": {
        "id": "st8N8A2wfOgS",
        "colab": {
          "base_uri": "https://localhost:8080/"
        },
        "outputId": "2f053917-67d2-4064-cf8b-b3003f0d6a2e"
      },
      "outputs": [
        {
          "output_type": "execute_result",
          "data": {
            "text/plain": [
              "False"
            ]
          },
          "metadata": {},
          "execution_count": 25
        }
      ],
      "source": [
        "def calc(expr):  #не успел\n",
        "    pass\n",
        "\n",
        "calc('2 * (15 - 3 * 4) - 2') == 4"
      ]
    },
    {
      "cell_type": "code",
      "execution_count": null,
      "metadata": {
        "id": "y1sRY7-DfOgS"
      },
      "outputs": [],
      "source": []
    }
  ],
  "metadata": {
    "kernelspec": {
      "display_name": "Python 3.10.4 64-bit",
      "language": "python",
      "name": "python3"
    },
    "language_info": {
      "codemirror_mode": {
        "name": "ipython",
        "version": 3
      },
      "file_extension": ".py",
      "mimetype": "text/x-python",
      "name": "python",
      "nbconvert_exporter": "python",
      "pygments_lexer": "ipython3",
      "version": "3.10.4"
    },
    "vscode": {
      "interpreter": {
        "hash": "916dbcbb3f70747c44a77c7bcd40155683ae19c65e1c03b4aa3499c5328201f1"
      }
    },
    "colab": {
      "provenance": [],
      "collapsed_sections": []
    }
  },
  "nbformat": 4,
  "nbformat_minor": 0
}